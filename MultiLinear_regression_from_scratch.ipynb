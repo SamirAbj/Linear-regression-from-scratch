{
  "nbformat": 4,
  "nbformat_minor": 0,
  "metadata": {
    "colab": {
      "provenance": []
    },
    "kernelspec": {
      "name": "python3",
      "display_name": "Python 3"
    }
  },
  "cells": [
    {
      "cell_type": "code",
      "metadata": {
        "id": "u9nnDKPjAfGq"
      },
      "source": [
        "import numpy as np\n",
        "import pandas as pd\n",
        "import matplotlib.pyplot as plt\n",
        "from sklearn.model_selection import train_test_split\n",
        "from sklearn.linear_model import LinearRegression"
      ],
      "execution_count": 1,
      "outputs": []
    },
    {
      "cell_type": "code",
      "metadata": {
        "id": "_hep8239AzVU",
        "colab": {
          "base_uri": "https://localhost:8080/",
          "height": 206
        },
        "outputId": "98362558-262f-476a-cb5c-20c0d57754fc"
      },
      "source": [
        "df = pd.read_csv(r'/content/insurance.csv')\n",
        "df.head()"
      ],
      "execution_count": 77,
      "outputs": [
        {
          "output_type": "execute_result",
          "data": {
            "text/plain": [
              "   age     sex     bmi  children smoker     region      charges\n",
              "0   19  female  27.900         0    yes  southwest  16884.92400\n",
              "1   18    male  33.770         1     no  southeast   1725.55230\n",
              "2   28    male  33.000         3     no  southeast   4449.46200\n",
              "3   33    male  22.705         0     no  northwest  21984.47061\n",
              "4   32    male  28.880         0     no  northwest   3866.85520"
            ],
            "text/html": [
              "\n",
              "  <div id=\"df-64e32c63-f990-45e6-98d6-76363887f7a3\">\n",
              "    <div class=\"colab-df-container\">\n",
              "      <div>\n",
              "<style scoped>\n",
              "    .dataframe tbody tr th:only-of-type {\n",
              "        vertical-align: middle;\n",
              "    }\n",
              "\n",
              "    .dataframe tbody tr th {\n",
              "        vertical-align: top;\n",
              "    }\n",
              "\n",
              "    .dataframe thead th {\n",
              "        text-align: right;\n",
              "    }\n",
              "</style>\n",
              "<table border=\"1\" class=\"dataframe\">\n",
              "  <thead>\n",
              "    <tr style=\"text-align: right;\">\n",
              "      <th></th>\n",
              "      <th>age</th>\n",
              "      <th>sex</th>\n",
              "      <th>bmi</th>\n",
              "      <th>children</th>\n",
              "      <th>smoker</th>\n",
              "      <th>region</th>\n",
              "      <th>charges</th>\n",
              "    </tr>\n",
              "  </thead>\n",
              "  <tbody>\n",
              "    <tr>\n",
              "      <th>0</th>\n",
              "      <td>19</td>\n",
              "      <td>female</td>\n",
              "      <td>27.900</td>\n",
              "      <td>0</td>\n",
              "      <td>yes</td>\n",
              "      <td>southwest</td>\n",
              "      <td>16884.92400</td>\n",
              "    </tr>\n",
              "    <tr>\n",
              "      <th>1</th>\n",
              "      <td>18</td>\n",
              "      <td>male</td>\n",
              "      <td>33.770</td>\n",
              "      <td>1</td>\n",
              "      <td>no</td>\n",
              "      <td>southeast</td>\n",
              "      <td>1725.55230</td>\n",
              "    </tr>\n",
              "    <tr>\n",
              "      <th>2</th>\n",
              "      <td>28</td>\n",
              "      <td>male</td>\n",
              "      <td>33.000</td>\n",
              "      <td>3</td>\n",
              "      <td>no</td>\n",
              "      <td>southeast</td>\n",
              "      <td>4449.46200</td>\n",
              "    </tr>\n",
              "    <tr>\n",
              "      <th>3</th>\n",
              "      <td>33</td>\n",
              "      <td>male</td>\n",
              "      <td>22.705</td>\n",
              "      <td>0</td>\n",
              "      <td>no</td>\n",
              "      <td>northwest</td>\n",
              "      <td>21984.47061</td>\n",
              "    </tr>\n",
              "    <tr>\n",
              "      <th>4</th>\n",
              "      <td>32</td>\n",
              "      <td>male</td>\n",
              "      <td>28.880</td>\n",
              "      <td>0</td>\n",
              "      <td>no</td>\n",
              "      <td>northwest</td>\n",
              "      <td>3866.85520</td>\n",
              "    </tr>\n",
              "  </tbody>\n",
              "</table>\n",
              "</div>\n",
              "      <button class=\"colab-df-convert\" onclick=\"convertToInteractive('df-64e32c63-f990-45e6-98d6-76363887f7a3')\"\n",
              "              title=\"Convert this dataframe to an interactive table.\"\n",
              "              style=\"display:none;\">\n",
              "        \n",
              "  <svg xmlns=\"http://www.w3.org/2000/svg\" height=\"24px\"viewBox=\"0 0 24 24\"\n",
              "       width=\"24px\">\n",
              "    <path d=\"M0 0h24v24H0V0z\" fill=\"none\"/>\n",
              "    <path d=\"M18.56 5.44l.94 2.06.94-2.06 2.06-.94-2.06-.94-.94-2.06-.94 2.06-2.06.94zm-11 1L8.5 8.5l.94-2.06 2.06-.94-2.06-.94L8.5 2.5l-.94 2.06-2.06.94zm10 10l.94 2.06.94-2.06 2.06-.94-2.06-.94-.94-2.06-.94 2.06-2.06.94z\"/><path d=\"M17.41 7.96l-1.37-1.37c-.4-.4-.92-.59-1.43-.59-.52 0-1.04.2-1.43.59L10.3 9.45l-7.72 7.72c-.78.78-.78 2.05 0 2.83L4 21.41c.39.39.9.59 1.41.59.51 0 1.02-.2 1.41-.59l7.78-7.78 2.81-2.81c.8-.78.8-2.07 0-2.86zM5.41 20L4 18.59l7.72-7.72 1.47 1.35L5.41 20z\"/>\n",
              "  </svg>\n",
              "      </button>\n",
              "      \n",
              "  <style>\n",
              "    .colab-df-container {\n",
              "      display:flex;\n",
              "      flex-wrap:wrap;\n",
              "      gap: 12px;\n",
              "    }\n",
              "\n",
              "    .colab-df-convert {\n",
              "      background-color: #E8F0FE;\n",
              "      border: none;\n",
              "      border-radius: 50%;\n",
              "      cursor: pointer;\n",
              "      display: none;\n",
              "      fill: #1967D2;\n",
              "      height: 32px;\n",
              "      padding: 0 0 0 0;\n",
              "      width: 32px;\n",
              "    }\n",
              "\n",
              "    .colab-df-convert:hover {\n",
              "      background-color: #E2EBFA;\n",
              "      box-shadow: 0px 1px 2px rgba(60, 64, 67, 0.3), 0px 1px 3px 1px rgba(60, 64, 67, 0.15);\n",
              "      fill: #174EA6;\n",
              "    }\n",
              "\n",
              "    [theme=dark] .colab-df-convert {\n",
              "      background-color: #3B4455;\n",
              "      fill: #D2E3FC;\n",
              "    }\n",
              "\n",
              "    [theme=dark] .colab-df-convert:hover {\n",
              "      background-color: #434B5C;\n",
              "      box-shadow: 0px 1px 3px 1px rgba(0, 0, 0, 0.15);\n",
              "      filter: drop-shadow(0px 1px 2px rgba(0, 0, 0, 0.3));\n",
              "      fill: #FFFFFF;\n",
              "    }\n",
              "  </style>\n",
              "\n",
              "      <script>\n",
              "        const buttonEl =\n",
              "          document.querySelector('#df-64e32c63-f990-45e6-98d6-76363887f7a3 button.colab-df-convert');\n",
              "        buttonEl.style.display =\n",
              "          google.colab.kernel.accessAllowed ? 'block' : 'none';\n",
              "\n",
              "        async function convertToInteractive(key) {\n",
              "          const element = document.querySelector('#df-64e32c63-f990-45e6-98d6-76363887f7a3');\n",
              "          const dataTable =\n",
              "            await google.colab.kernel.invokeFunction('convertToInteractive',\n",
              "                                                     [key], {});\n",
              "          if (!dataTable) return;\n",
              "\n",
              "          const docLinkHtml = 'Like what you see? Visit the ' +\n",
              "            '<a target=\"_blank\" href=https://colab.research.google.com/notebooks/data_table.ipynb>data table notebook</a>'\n",
              "            + ' to learn more about interactive tables.';\n",
              "          element.innerHTML = '';\n",
              "          dataTable['output_type'] = 'display_data';\n",
              "          await google.colab.output.renderOutput(dataTable, element);\n",
              "          const docLink = document.createElement('div');\n",
              "          docLink.innerHTML = docLinkHtml;\n",
              "          element.appendChild(docLink);\n",
              "        }\n",
              "      </script>\n",
              "    </div>\n",
              "  </div>\n",
              "  "
            ]
          },
          "metadata": {},
          "execution_count": 77
        }
      ]
    },
    {
      "cell_type": "code",
      "metadata": {
        "id": "mslOEw7wmf_N",
        "colab": {
          "base_uri": "https://localhost:8080/"
        },
        "outputId": "f66b52d0-5837-4e11-d677-7425d1c1834e"
      },
      "source": [
        "df.isnull().sum()"
      ],
      "execution_count": 78,
      "outputs": [
        {
          "output_type": "execute_result",
          "data": {
            "text/plain": [
              "age         0\n",
              "sex         0\n",
              "bmi         3\n",
              "children    0\n",
              "smoker      0\n",
              "region      0\n",
              "charges     0\n",
              "dtype: int64"
            ]
          },
          "metadata": {},
          "execution_count": 78
        }
      ]
    },
    {
      "cell_type": "markdown",
      "metadata": {
        "id": "kM729bhAlP2S"
      },
      "source": [
        "drop rows with missing values"
      ]
    },
    {
      "cell_type": "code",
      "metadata": {
        "id": "ZXvduiy1nckz"
      },
      "source": [
        "df.dropna(inplace=True)"
      ],
      "execution_count": 79,
      "outputs": []
    },
    {
      "cell_type": "code",
      "metadata": {
        "id": "bSEzYUz-nevs",
        "colab": {
          "base_uri": "https://localhost:8080/"
        },
        "outputId": "a7d65669-bbbb-4e0c-e481-0b858766bbc2"
      },
      "source": [
        "df.isnull().sum()"
      ],
      "execution_count": 80,
      "outputs": [
        {
          "output_type": "execute_result",
          "data": {
            "text/plain": [
              "age         0\n",
              "sex         0\n",
              "bmi         0\n",
              "children    0\n",
              "smoker      0\n",
              "region      0\n",
              "charges     0\n",
              "dtype: int64"
            ]
          },
          "metadata": {},
          "execution_count": 80
        }
      ]
    },
    {
      "cell_type": "markdown",
      "metadata": {
        "id": "rT-M7TYitDT8"
      },
      "source": [
        "#### Remove unused columns\n",
        "\n",
        "Let's remove the `region` column since we don't really care about it"
      ]
    },
    {
      "cell_type": "code",
      "metadata": {
        "id": "YdCm-boktOto"
      },
      "source": [
        "df = df.drop((\"region\"),axis=1)"
      ],
      "execution_count": 81,
      "outputs": []
    },
    {
      "cell_type": "markdown",
      "metadata": {
        "id": "VGcXlEP6ryIZ"
      },
      "source": [
        "#### Convert Categorical columns to numerical\n",
        "\n",
        "*   We need to convert the sex column from male/female to 0/1.\n",
        "*   We need to convert the smoker column from no/yes to 0/1.\n",
        "\n",
        "\n",
        "Let's start with the sex column\n",
        "\n"
      ]
    },
    {
      "cell_type": "code",
      "metadata": {
        "id": "cpEbrz7HnfuY"
      },
      "source": [
        "df['sex'] = df['sex'].map({'male': 0, 'female': 1})"
      ],
      "execution_count": 82,
      "outputs": []
    },
    {
      "cell_type": "markdown",
      "metadata": {
        "id": "AuX-fpHesgmi"
      },
      "source": [
        "And now the smokers column"
      ]
    },
    {
      "cell_type": "code",
      "metadata": {
        "id": "LfU8gCe7sCDS"
      },
      "source": [
        "df['smoker'] = df['smoker'].map({'no': 0, 'yes': 1})"
      ],
      "execution_count": 83,
      "outputs": []
    },
    {
      "cell_type": "markdown",
      "metadata": {
        "id": "uwfqKXYftiS-"
      },
      "source": [
        "#### Normalization\n",
        "\n",
        "Let's scale all the columns by dividing by the maximum"
      ]
    },
    {
      "cell_type": "markdown",
      "metadata": {
        "id": "N9qvYVaBlucK"
      },
      "source": [
        "First get the maximum of each column"
      ]
    },
    {
      "cell_type": "code",
      "metadata": {
        "id": "hJrBAhytsq8c",
        "colab": {
          "base_uri": "https://localhost:8080/"
        },
        "outputId": "9c106070-eaaf-4932-85b9-423cc39a9dc0"
      },
      "source": [
        "column_max = df.max()\n",
        "\n",
        "# Print the maximum value of each column\n",
        "print(column_max)"
      ],
      "execution_count": 88,
      "outputs": [
        {
          "output_type": "stream",
          "name": "stdout",
          "text": [
            "age            64.00000\n",
            "sex             1.00000\n",
            "bmi            53.13000\n",
            "children        5.00000\n",
            "smoker          1.00000\n",
            "charges     63770.42801\n",
            "dtype: float64\n"
          ]
        }
      ]
    },
    {
      "cell_type": "markdown",
      "metadata": {
        "id": "GUJhx5LHlyzk"
      },
      "source": [
        "Divide each column by its maximum value"
      ]
    },
    {
      "cell_type": "code",
      "metadata": {
        "id": "oOxtgIjhu36f",
        "colab": {
          "base_uri": "https://localhost:8080/"
        },
        "outputId": "c9a12c2e-cb61-48d3-fbfd-a219cc1a0900"
      },
      "source": [
        "df = df.div(column_max)\n",
        "print(df.head())"
      ],
      "execution_count": 89,
      "outputs": [
        {
          "output_type": "stream",
          "name": "stdout",
          "text": [
            "        age  sex       bmi  children  smoker   charges\n",
            "0  0.296875  1.0  0.525127       0.0     1.0  0.264777\n",
            "1  0.281250  0.0  0.635611       0.2     0.0  0.027059\n",
            "2  0.437500  0.0  0.621118       0.6     0.0  0.069773\n",
            "3  0.515625  0.0  0.427348       0.0     0.0  0.344744\n",
            "4  0.500000  0.0  0.543572       0.0     0.0  0.060637\n"
          ]
        }
      ]
    },
    {
      "cell_type": "markdown",
      "metadata": {
        "id": "nwQPUuGy8vmw"
      },
      "source": [
        "## MultiLinear Regression Model Training\n",
        "\n"
      ]
    },
    {
      "cell_type": "code",
      "metadata": {
        "id": "5n3DqBUG892K",
        "colab": {
          "base_uri": "https://localhost:8080/"
        },
        "outputId": "130db391-3ee4-43e1-af4e-d6111cbd8920"
      },
      "source": [
        "X = df.drop('charges', axis=1)  # Features (input variables)\n",
        "y = df['charges']  # Target variable\n",
        "\n",
        "X_train, X_test, y_train, y_test = train_test_split(X, y, test_size=0.2, random_state=42)\n",
        "\n",
        "# Print the shape of training and testing data\n",
        "print(\"Training data shape:\", X_train.shape, y_train.shape)\n",
        "print(\"Testing data shape:\", X_test.shape, y_test.shape)"
      ],
      "execution_count": 90,
      "outputs": [
        {
          "output_type": "stream",
          "name": "stdout",
          "text": [
            "Training data shape: (1068, 5) (1068,)\n",
            "Testing data shape: (267, 5) (267,)\n"
          ]
        }
      ]
    },
    {
      "cell_type": "markdown",
      "metadata": {
        "id": "nnkHA8kR-dTV"
      },
      "source": [
        "### Optimization Using Gradient Descent"
      ]
    },
    {
      "cell_type": "markdown",
      "metadata": {
        "id": "4vQPYw3CmtQj"
      },
      "source": [
        "Implementation of the Gradient_descent "
      ]
    },
    {
      "cell_type": "code",
      "source": [
        "def Gradient_descent (x, y, learning_rate, nb_iterations, initial_a):\n",
        "    n = x.shape[0]  # number of points\n",
        "    a0 = initial_a[0]\n",
        "    a1 = initial_a[1]\n",
        "    a2 = initial_a[2]\n",
        "    a3 = initial_a[3]\n",
        "    a4 = initial_a[4]\n",
        "    a5 = initial_a[5]\n",
        "    x1= x[:, 0]\n",
        "    x2= x[:, 1]\n",
        "    x3= x[:, 2]\n",
        "    x4= x[:, 3]\n",
        "    x5= x[:, 4]\n",
        "\n",
        "    costs = []\n",
        "    for i in range(nb_iterations):\n",
        "        y_pred =  a0 + a1 * x1  + a2 * x2  + a3 * x3 + a4 * x4 +  a5* x5\n",
        "        error =  (y - y_pred )\n",
        "        cost = (1 /  n) * np.sum((y - y_pred)**2)\n",
        "        costs.append(cost)\n",
        "        if (cost<0.001):\n",
        "          break\n",
        "        a0_der = -2 * np.sum(1 *(error )) / n\n",
        "        a1_der = -2 * np.sum(x1 * (error )) / n\n",
        "        a2_der = -2 * np.sum(x2 * (error )) / n\n",
        "        a3_der = -2 * np.sum(x3 * (error )) / n\n",
        "        a4_der = -2 * np.sum(x4 * (error)) / n\n",
        "        a5_der = -2 * np.sum(x5 * (error)) / n\n",
        "\n",
        "        a0 = a0 - learning_rate * a0_der\n",
        "        a1 = a1 - learning_rate * a1_der\n",
        "        a2 = a2 - learning_rate * a2_der\n",
        "        a3 = a3 - learning_rate * a3_der\n",
        "        a4 = a4 - learning_rate * a4_der\n",
        "        a5 = a5 - learning_rate * a5_der\n",
        "\n",
        "    return costs, np.array([a0,a1,a2,a3,a4,a5])"
      ],
      "metadata": {
        "id": "P7eSrucbnaSx"
      },
      "execution_count": 91,
      "outputs": []
    },
    {
      "cell_type": "code",
      "source": [
        "costs, initial_a=Gradient_descent(X_train.values,y_train.values,0.1,10000,initial_a=np.ones((6, 1)))"
      ],
      "metadata": {
        "id": "_4klhXMUoyRm"
      },
      "execution_count": 92,
      "outputs": []
    },
    {
      "cell_type": "code",
      "source": [
        "initial_a"
      ],
      "metadata": {
        "colab": {
          "base_uri": "https://localhost:8080/"
        },
        "id": "KrsVG7Ugtzqz",
        "outputId": "9f8a1921-4751-44ff-b7dc-9434c610b46b"
      },
      "execution_count": 93,
      "outputs": [
        {
          "output_type": "execute_result",
          "data": {
            "text/plain": [
              "array([[-0.17731122],\n",
              "       [ 0.25340124],\n",
              "       [ 0.00636305],\n",
              "       [ 0.24684219],\n",
              "       [ 0.04254233],\n",
              "       [ 0.3666139 ]])"
            ]
          },
          "metadata": {},
          "execution_count": 93
        }
      ]
    },
    {
      "cell_type": "markdown",
      "metadata": {
        "id": "Jxx2NFLSDlQa"
      },
      "source": [
        "Plot the cost function"
      ]
    },
    {
      "cell_type": "code",
      "source": [
        "# Plotting the cost function\n",
        "plt.plot(range(len(costs)), costs)\n",
        "plt.xlabel('Iterations')\n",
        "plt.ylabel('Cost')\n",
        "plt.title('Cost Function')\n",
        "plt.show()"
      ],
      "metadata": {
        "colab": {
          "base_uri": "https://localhost:8080/",
          "height": 472
        },
        "id": "gMeW1eltqL2E",
        "outputId": "4ab3330b-873c-4c3e-ef1a-bd3d176116de"
      },
      "execution_count": 39,
      "outputs": [
        {
          "output_type": "display_data",
          "data": {
            "text/plain": [
              "<Figure size 640x480 with 1 Axes>"
            ],
            "image/png": "[encoded data removed]"
          },
          "metadata": {}
        }
      ]
    },
    {
      "cell_type": "markdown",
      "metadata": {
        "id": "IQvjlPFv-PVD"
      },
      "source": [
        "###Predicting Using Vectorized Gradient Descent"
      ]
    },
    {
      "cell_type": "code",
      "metadata": {
        "id": "YgxG_GzBz2QC"
      },
      "source": [
        "def Gradient_descent_vectorized (x, y, learning_rate, nb_iterations, initial_a):\n",
        "    x = np.hstack((np.ones((x.shape[0], 1)), x))\n",
        "    m=y.size\n",
        "    a=initial_a \n",
        "    y = np.reshape(y, (1068, 1))\n",
        "    for i in range(nb_iterations):\n",
        "      y_pred = np.dot(x,a)\n",
        "      diff =  y_pred - y\n",
        "      cost = (1/(2*m))*np.sum(np.square(diff))\n",
        "      derivative_a= (1/m)*np.dot(x.T,diff)\n",
        "      a -= learning_rate * derivative_a\n",
        "    return a\n"
      ],
      "execution_count": 149,
      "outputs": []
    },
    {
      "cell_type": "code",
      "source": [
        "a = Gradient_descent_vectorized(X_train.values,y_train.values,0.1,10000,initial_a=np.ones((6, 1)))\n",
        "a"
      ],
      "metadata": {
        "colab": {
          "base_uri": "https://localhost:8080/"
        },
        "id": "fuTOoQqvmm3d",
        "outputId": "6346a37f-3075-4bf6-b3a4-717901ef16e7"
      },
      "execution_count": 95,
      "outputs": [
        {
          "output_type": "execute_result",
          "data": {
            "text/plain": [
              "array([[-0.17731369],\n",
              "       [ 0.25340135],\n",
              "       [ 0.00636315],\n",
              "       [ 0.2468462 ],\n",
              "       [ 0.04254243],\n",
              "       [ 0.36661395]])"
            ]
          },
          "metadata": {},
          "execution_count": 95
        }
      ]
    },
    {
      "cell_type": "markdown",
      "metadata": {
        "id": "4H4hqB3iMQg6"
      },
      "source": [
        "Writing a function that we'll use to make predictions"
      ]
    },
    {
      "cell_type": "code",
      "metadata": {
        "id": "39aurJCfL2l4"
      },
      "source": [
        "def predict_medical_charges (a, x):\n",
        "  x = np.hstack((np.ones((x.shape[0], 1)), x))\n",
        "  a = a.reshape(-1, 1)\n",
        "  charges = np.dot(x, a)\n",
        "\n",
        "  return charges"
      ],
      "execution_count": 96,
      "outputs": []
    },
    {
      "cell_type": "markdown",
      "metadata": {
        "id": "SzD1NeQnN8zg"
      },
      "source": [
        "making a prediction of the medical charges on the first example we have in our training set"
      ]
    },
    {
      "cell_type": "code",
      "source": [
        "column_max"
      ],
      "metadata": {
        "colab": {
          "base_uri": "https://localhost:8080/"
        },
        "id": "HBS7IeITJZrE",
        "outputId": "c65b57f2-4558-445b-8ce1-0a9cb5f3a386"
      },
      "execution_count": 107,
      "outputs": [
        {
          "output_type": "execute_result",
          "data": {
            "text/plain": [
              "age            64.00000\n",
              "sex             1.00000\n",
              "bmi            53.13000\n",
              "children        5.00000\n",
              "smoker          1.00000\n",
              "charges     63770.42801\n",
              "dtype: float64"
            ]
          },
          "metadata": {},
          "execution_count": 107
        }
      ]
    },
    {
      "cell_type": "code",
      "source": [
        "row_to_predict = X_train.iloc[0, :].values\n",
        "row_to_predict = row_to_predict.reshape(1, -1)\n",
        "print(row_to_predict)\n",
        "print(row_to_predict*column_max[:-1].values) #denormalized features\n",
        "\n",
        "prediction = predict_medical_charges(a, row_to_predict)*column_max[-1]\n",
        "print(prediction)"
      ],
      "metadata": {
        "colab": {
          "base_uri": "https://localhost:8080/"
        },
        "id": "zpeHGTNXmqxY",
        "outputId": "8b9271d4-8ca0-4828-ccfb-b79b895fd083"
      },
      "execution_count": 106,
      "outputs": [
        {
          "output_type": "stream",
          "name": "stdout",
          "text": [
            "[[0.734375   1.         0.45774515 0.         0.        ]]\n",
            "[[47.    1.   24.32  0.    0.  ]]\n",
            "[[8171.14239659]]\n"
          ]
        }
      ]
    },
    {
      "cell_type": "markdown",
      "metadata": {
        "id": "C3rGevdtH8xK"
      },
      "source": [
        "###Linear Regression Model Evaluation"
      ]
    },
    {
      "cell_type": "code",
      "metadata": {
        "id": "B9Js5Ix_KL_J"
      },
      "source": [
        "predicted_values = predict_medical_charges(a, X_test.values)*column_max[-1]"
      ],
      "execution_count": 135,
      "outputs": []
    },
    {
      "cell_type": "code",
      "source": [
        "from sklearn.metrics import mean_absolute_error, mean_squared_error\n",
        "\n",
        "# Assuming you have the actual target values for the test set (y_test) and the predicted values (predicted_values_sklearn)\n",
        "mae_sklearn = mean_absolute_error(y_test*column_max[-1], predicted_values)\n",
        "mse_sklearn = mean_squared_error(y_test*column_max[-1], predicted_values)\n",
        "rmse_sklearn = np.sqrt(mse_sklearn)\n",
        "\n",
        "print(\"MAE (sklearn):\", mae_sklearn)\n",
        "print(\"MSE (sklearn):\", mse_sklearn)\n",
        "print(\"RMSE (sklearn):\", rmse_sklearn)"
      ],
      "metadata": {
        "colab": {
          "base_uri": "https://localhost:8080/"
        },
        "id": "OSx7J__9Pohs",
        "outputId": "957f5cdd-7803-4aa3-9f9c-28e002138920"
      },
      "execution_count": 137,
      "outputs": [
        {
          "output_type": "stream",
          "name": "stdout",
          "text": [
            "MAE (sklearn): 4217.595795384445\n",
            "MSE (sklearn): 34169759.8675224\n",
            "RMSE (sklearn): 5845.490558329763\n"
          ]
        }
      ]
    },
    {
      "cell_type": "markdown",
      "metadata": {
        "id": "7dPqqZiT97Eg"
      },
      "source": [
        "### Prediction Using Scikit Learn Library\n"
      ]
    },
    {
      "cell_type": "markdown",
      "metadata": {
        "id": "j1_MDWZnAsbn"
      },
      "source": [
        "Now to validate the results that we got, we will use the scikit learn library to give us the values of the coefficients that we got using Gradient Descent.\n"
      ]
    },
    {
      "cell_type": "code",
      "metadata": {
        "id": "CYUD8wNF9bm3",
        "colab": {
          "base_uri": "https://localhost:8080/",
          "height": 75
        },
        "outputId": "103d9704-1646-483e-802e-d2c1af58a64d"
      },
      "source": [
        "from sklearn.linear_model import LinearRegression\n",
        "\n",
        "model = LinearRegression()\n",
        "model.fit(X_train, y_train)"
      ],
      "execution_count": 138,
      "outputs": [
        {
          "output_type": "execute_result",
          "data": {
            "text/plain": [
              "LinearRegression()"
            ],
            "text/html": [
              "<style>#sk-container-id-1 {color: black;background-color: white;}#sk-container-id-1 pre{padding: 0;}#sk-container-id-1 div.sk-toggleable {background-color: white;}#sk-container-id-1 label.sk-toggleable__label {cursor: pointer;display: block;width: 100%;margin-bottom: 0;padding: 0.3em;box-sizing: border-box;text-align: center;}#sk-container-id-1 label.sk-toggleable__label-arrow:before {content: \"▸\";float: left;margin-right: 0.25em;color: #696969;}#sk-container-id-1 label.sk-toggleable__label-arrow:hover:before {color: black;}#sk-container-id-1 div.sk-estimator:hover label.sk-toggleable__label-arrow:before {color: black;}#sk-container-id-1 div.sk-toggleable__content {max-height: 0;max-width: 0;overflow: hidden;text-align: left;background-color: #f0f8ff;}#sk-container-id-1 div.sk-toggleable__content pre {margin: 0.2em;color: black;border-radius: 0.25em;background-color: #f0f8ff;}#sk-container-id-1 input.sk-toggleable__control:checked~div.sk-toggleable__content {max-height: 200px;max-width: 100%;overflow: auto;}#sk-container-id-1 input.sk-toggleable__control:checked~label.sk-toggleable__label-arrow:before {content: \"▾\";}#sk-container-id-1 div.sk-estimator input.sk-toggleable__control:checked~label.sk-toggleable__label {background-color: #d4ebff;}#sk-container-id-1 div.sk-label input.sk-toggleable__control:checked~label.sk-toggleable__label {background-color: #d4ebff;}#sk-container-id-1 input.sk-hidden--visually {border: 0;clip: rect(1px 1px 1px 1px);clip: rect(1px, 1px, 1px, 1px);height: 1px;margin: -1px;overflow: hidden;padding: 0;position: absolute;width: 1px;}#sk-container-id-1 div.sk-estimator {font-family: monospace;background-color: #f0f8ff;border: 1px dotted black;border-radius: 0.25em;box-sizing: border-box;margin-bottom: 0.5em;}#sk-container-id-1 div.sk-estimator:hover {background-color: #d4ebff;}#sk-container-id-1 div.sk-parallel-item::after {content: \"\";width: 100%;border-bottom: 1px solid gray;flex-grow: 1;}#sk-container-id-1 div.sk-label:hover label.sk-toggleable__label {background-color: #d4ebff;}#sk-container-id-1 div.sk-serial::before {content: \"\";position: absolute;border-left: 1px solid gray;box-sizing: border-box;top: 0;bottom: 0;left: 50%;z-index: 0;}#sk-container-id-1 div.sk-serial {display: flex;flex-direction: column;align-items: center;background-color: white;padding-right: 0.2em;padding-left: 0.2em;position: relative;}#sk-container-id-1 div.sk-item {position: relative;z-index: 1;}#sk-container-id-1 div.sk-parallel {display: flex;align-items: stretch;justify-content: center;background-color: white;position: relative;}#sk-container-id-1 div.sk-item::before, #sk-container-id-1 div.sk-parallel-item::before {content: \"\";position: absolute;border-left: 1px solid gray;box-sizing: border-box;top: 0;bottom: 0;left: 50%;z-index: -1;}#sk-container-id-1 div.sk-parallel-item {display: flex;flex-direction: column;z-index: 1;position: relative;background-color: white;}#sk-container-id-1 div.sk-parallel-item:first-child::after {align-self: flex-end;width: 50%;}#sk-container-id-1 div.sk-parallel-item:last-child::after {align-self: flex-start;width: 50%;}#sk-container-id-1 div.sk-parallel-item:only-child::after {width: 0;}#sk-container-id-1 div.sk-dashed-wrapped {border: 1px dashed gray;margin: 0 0.4em 0.5em 0.4em;box-sizing: border-box;padding-bottom: 0.4em;background-color: white;}#sk-container-id-1 div.sk-label label {font-family: monospace;font-weight: bold;display: inline-block;line-height: 1.2em;}#sk-container-id-1 div.sk-label-container {text-align: center;}#sk-container-id-1 div.sk-container {/* jupyter's `normalize.less` sets `[hidden] { display: none; }` but bootstrap.min.css set `[hidden] { display: none !important; }` so we also need the `!important` here to be able to override the default hidden behavior on the sphinx rendered scikit-learn.org. See: https://github.com/scikit-learn/scikit-learn/issues/21755 */display: inline-block !important;position: relative;}#sk-container-id-1 div.sk-text-repr-fallback {display: none;}</style><div id=\"sk-container-id-1\" class=\"sk-top-container\"><div class=\"sk-text-repr-fallback\"><pre>LinearRegression()</pre><b>In a Jupyter environment, please rerun this cell to show the HTML representation or trust the notebook. <br />On GitHub, the HTML representation is unable to render, please try loading this page with nbviewer.org.</b></div><div class=\"sk-container\" hidden><div class=\"sk-item\"><div class=\"sk-estimator sk-toggleable\"><input class=\"sk-toggleable__control sk-hidden--visually\" id=\"sk-estimator-id-1\" type=\"checkbox\" checked><label for=\"sk-estimator-id-1\" class=\"sk-toggleable__label sk-toggleable__label-arrow\">LinearRegression</label><div class=\"sk-toggleable__content\"><pre>LinearRegression()</pre></div></div></div></div></div>"
            ]
          },
          "metadata": {},
          "execution_count": 138
        }
      ]
    },
    {
      "cell_type": "code",
      "source": [
        "coefficients = model.coef_\n",
        "intercept = model.intercept_"
      ],
      "metadata": {
        "id": "uizYlBBzpKn4"
      },
      "execution_count": 139,
      "outputs": []
    },
    {
      "cell_type": "code",
      "source": [
        "print(\"coefficients =\" ,coefficients)\n",
        "print(\"intercept = \",intercept)\n"
      ],
      "metadata": {
        "colab": {
          "base_uri": "https://localhost:8080/"
        },
        "id": "KmdlytQUpQlk",
        "outputId": "e3651aa7-0410-4e66-899c-6021344a1e2d"
      },
      "execution_count": 140,
      "outputs": [
        {
          "output_type": "stream",
          "name": "stdout",
          "text": [
            "coefficients = [0.25340124 0.00636305 0.24684219 0.04254233 0.3666139 ]\n",
            "intercept =  -0.17731121712023437\n"
          ]
        }
      ]
    },
    {
      "cell_type": "markdown",
      "metadata": {
        "id": "aheCkvxXFb2B"
      },
      "source": [
        "####Features importance (Coefficients)\n"
      ]
    },
    {
      "cell_type": "markdown",
      "metadata": {
        "id": "qXca96BRq9pQ"
      },
      "source": [
        "Get the importance of each of your features, and compare the results with the ones we obtained in your gradient descent."
      ]
    },
    {
      "cell_type": "code",
      "source": [
        "for feature, coef_gradient, coef_sklearn in zip(X_train.columns, a[1:], coefficients):\n",
        "    print(f\"{feature}: Coef GD = {coef_gradient[0]}, Coef Scikit-Learn = {coef_sklearn}\")"
      ],
      "metadata": {
        "colab": {
          "base_uri": "https://localhost:8080/"
        },
        "id": "3_19ndvMrCLJ",
        "outputId": "4501829c-9279-4a56-ae3f-dd3f29b7c963"
      },
      "execution_count": 141,
      "outputs": [
        {
          "output_type": "stream",
          "name": "stdout",
          "text": [
            "age: Coef GD = 0.25340134656854935, Coef Scikit-Learn = 0.25340123892015703\n",
            "sex: Coef GD = 0.006363146949501089, Coef Scikit-Learn = 0.006363051329000658\n",
            "bmi: Coef GD = 0.24684620487671557, Coef Scikit-Learn = 0.2468421906447056\n",
            "children: Coef GD = 0.04254242753967029, Coef Scikit-Learn = 0.04254233178756274\n",
            "smoker: Coef GD = 0.36661394743452513, Coef Scikit-Learn = 0.36661390495979856\n"
          ]
        }
      ]
    },
    {
      "cell_type": "markdown",
      "metadata": {
        "id": "f-2KAmErMXtI"
      },
      "source": [
        "####Evaluation using Scikit learn"
      ]
    },
    {
      "cell_type": "markdown",
      "metadata": {
        "id": "kp7AJYS6NNLw"
      },
      "source": [
        "We start by calculating the predicted values for this model."
      ]
    },
    {
      "cell_type": "code",
      "metadata": {
        "id": "oYAULOi9NSN5"
      },
      "source": [
        "predicted_values_sklearn = model.predict(X_test)*column_max[-1]"
      ],
      "execution_count": 144,
      "outputs": []
    },
    {
      "cell_type": "code",
      "source": [
        "predicted_values_sklearn[:5]"
      ],
      "metadata": {
        "colab": {
          "base_uri": "https://localhost:8080/"
        },
        "id": "e1tsIbWdserJ",
        "outputId": "c29b3ca2-8850-4676-be03-9a7f975c528a"
      },
      "execution_count": 145,
      "outputs": [
        {
          "output_type": "execute_result",
          "data": {
            "text/plain": [
              "array([  566.60703029,  7741.65113472, 14383.49654951, 31715.92828453,\n",
              "        8979.32475496])"
            ]
          },
          "metadata": {},
          "execution_count": 145
        }
      ]
    },
    {
      "cell_type": "markdown",
      "metadata": {
        "id": "ZArgRM1TMgfA"
      },
      "source": [
        "Now we will evaluate the sklearn model using the sklearn library to get error metrics (MAE, MSE, RMSE)"
      ]
    },
    {
      "cell_type": "code",
      "metadata": {
        "id": "nM2yKf0FMsnM",
        "colab": {
          "base_uri": "https://localhost:8080/"
        },
        "outputId": "e8988eb3-dde9-4fad-803f-a5d882d6c0d6"
      },
      "source": [
        "from sklearn.metrics import mean_absolute_error, mean_squared_error\n",
        "\n",
        "# Assuming you have the actual target values for the test set (y_test) and the predicted values (predicted_values_sklearn)\n",
        "mae_sklearn = mean_absolute_error(y_test*column_max[-1], predicted_values_sklearn)\n",
        "mse_sklearn = mean_squared_error(y_test*column_max[-1], predicted_values_sklearn)\n",
        "rmse_sklearn = np.sqrt(mse_sklearn)\n",
        "\n",
        "print(\"MAE (sklearn):\", mae_sklearn)\n",
        "print(\"MSE (sklearn):\", mse_sklearn)\n",
        "print(\"RMSE (sklearn):\", rmse_sklearn)\n"
      ],
      "execution_count": 147,
      "outputs": [
        {
          "output_type": "stream",
          "name": "stdout",
          "text": [
            "MAE (sklearn): 4217.590933001889\n",
            "MSE (sklearn): 34169808.821944006\n",
            "RMSE (sklearn): 5845.494745694671\n"
          ]
        }
      ]
    },
    {
      "cell_type": "markdown",
      "source": [
        "Calculate the R2 value "
      ],
      "metadata": {
        "id": "6bxG8r5adBwI"
      }
    },
    {
      "cell_type": "code",
      "source": [
        "r2_score = model.score(X_test, y_test)\n",
        "\n",
        "print(\"R2 Score:\", r2_score)"
      ],
      "metadata": {
        "id": "DM6JisvgdDT-",
        "colab": {
          "base_uri": "https://localhost:8080/"
        },
        "outputId": "3f9e56f3-9d35-40ab-f4b0-0c6c13e628c3"
      },
      "execution_count": 148,
      "outputs": [
        {
          "output_type": "stream",
          "name": "stdout",
          "text": [
            "R2 Score: 0.8043792068989463\n"
          ]
        }
      ]
    }
  ]
}